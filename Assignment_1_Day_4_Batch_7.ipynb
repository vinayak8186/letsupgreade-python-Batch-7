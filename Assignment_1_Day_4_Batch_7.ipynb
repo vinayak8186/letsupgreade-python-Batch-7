{
  "nbformat": 4,
  "nbformat_minor": 0,
  "metadata": {
    "colab": {
      "name": "Assignment_1_Day_4_Batch_7.ipynb",
      "provenance": [],
      "collapsed_sections": [],
      "authorship_tag": "ABX9TyNMKyMrr2OxKC6BWcsYo28S",
      "include_colab_link": true
    },
    "kernelspec": {
      "name": "python3",
      "display_name": "Python 3"
    }
  },
  "cells": [
    {
      "cell_type": "markdown",
      "metadata": {
        "id": "view-in-github",
        "colab_type": "text"
      },
      "source": [
        "<a href=\"https://colab.research.google.com/github/vinayak8186/letsupgreade-python-Batch-7/blob/master/Assignment_1_Day_4_Batch_7.ipynb\" target=\"_parent\"><img src=\"https://colab.research.google.com/assets/colab-badge.svg\" alt=\"Open In Colab\"/></a>"
      ]
    },
    {
      "cell_type": "code",
      "metadata": {
        "id": "LYxwK5JOyRlN",
        "colab_type": "code",
        "colab": {
          "base_uri": "https://localhost:8080/",
          "height": 35
        },
        "outputId": "dd6250d2-992c-424c-b626-78a9609132bd"
      },
      "source": [
        "#question : Print the first ArmStrong number in the range of 1042000 to 702648265 and exit the as soon as you encounter the first armstrong number. Use while loop\n",
        "#solution :\n",
        "\n",
        "lower = 1042000\n",
        "upper = 702648265\n",
        "\n",
        "for Number in range(lower, upper + 1):\n",
        "   # order of number\n",
        "   order = len(str(Number))\n",
        "    \n",
        "   # initialize sum\n",
        "   sum = 0\n",
        "\n",
        "   temp = Number\n",
        "   while temp > 0:\n",
        "       digit = temp % 10\n",
        "       sum += digit ** order\n",
        "       temp //= 10\n",
        "\n",
        "   if Number == sum:\n",
        "       print(Number)\n",
        "       break"
      ],
      "execution_count": 3,
      "outputs": [
        {
          "output_type": "stream",
          "text": [
            "1741725\n"
          ],
          "name": "stdout"
        }
      ]
    }
  ]
}