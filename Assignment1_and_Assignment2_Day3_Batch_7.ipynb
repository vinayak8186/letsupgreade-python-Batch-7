{
  "nbformat": 4,
  "nbformat_minor": 0,
  "metadata": {
    "colab": {
      "name": "Untitled0.ipynb",
      "provenance": [],
      "collapsed_sections": [],
      "authorship_tag": "ABX9TyOYuECPw0KKEyK9b13sN5b2",
      "include_colab_link": true
    },
    "kernelspec": {
      "name": "python3",
      "display_name": "Python 3"
    }
  },
  "cells": [
    {
      "cell_type": "markdown",
      "metadata": {
        "id": "view-in-github",
        "colab_type": "text"
      },
      "source": [
        "<a href=\"https://colab.research.google.com/github/vinayak8186/letsupgreade-python-Batch-7/blob/master/Assignment1_and_Assignment2_Day3_Batch_7.ipynb\" target=\"_parent\"><img src=\"https://colab.research.google.com/assets/colab-badge.svg\" alt=\"Open In Colab\"/></a>"
      ]
    },
    {
      "cell_type": "code",
      "metadata": {
        "id": "RmQR3M3LeXUQ",
        "colab_type": "code",
        "colab": {
          "base_uri": "https://localhost:8080/",
          "height": 908
        },
        "outputId": "cbb39d83-986d-4903-8590-b39b80cf0a31"
      },
      "source": [
        "# Assignment 1 Day_3 Batch-7\n",
        "# Question : \n",
        "# You are all pilots, you have to land a plane, altitude require for landing a plane is 1000ft, if it is less than that then tell pilot to land a plane or it is more than that but less than 5000f then ask pilot to come down 1000ft, else if it is more than 5000ft then ask pilot to go around and try later\n",
        "\n",
        "# Solution : \n",
        "\n",
        "required_altitude = 1000\n",
        "\n",
        "resulted_altitude = int(input('enter the resulted altitude:', ))\n",
        "\n",
        "print ('The resulted altitude is:', resulted_altitude)\n",
        "\n",
        "\n",
        "if resulted_altitude < required_altitude :\n",
        "    print ('you can land a plane')\n",
        "\n",
        "elif resulted_altitude > required_altitude and resulted_altitude < 5000 :\n",
        "    print ('come down to 1000ft for landing')\n",
        "\n",
        "else:\n",
        "    print ('go around and try later')\n",
        "\n",
        "\n",
        "# Assignment-2 Day-3 Batch-7\n",
        "\n",
        "# Using for loop print all prime number between 1 to 200 with range function\n",
        "# Solution :\n",
        "\n",
        "for i in range(2, 201): \n",
        "  #all prime numbers are greater than 1\n",
        "    for j in range(2, i): \n",
        "        if(i % j == 0): \n",
        "            break\n",
        "    else: \n",
        "        print(i) "
      ],
      "execution_count": 4,
      "outputs": [
        {
          "output_type": "stream",
          "text": [
            "enter the resulted altitude:1200\n",
            "The resulted altitude is: 1200\n",
            "come down to 1000ft for landing\n",
            "2\n",
            "3\n",
            "5\n",
            "7\n",
            "11\n",
            "13\n",
            "17\n",
            "19\n",
            "23\n",
            "29\n",
            "31\n",
            "37\n",
            "41\n",
            "43\n",
            "47\n",
            "53\n",
            "59\n",
            "61\n",
            "67\n",
            "71\n",
            "73\n",
            "79\n",
            "83\n",
            "89\n",
            "97\n",
            "101\n",
            "103\n",
            "107\n",
            "109\n",
            "113\n",
            "127\n",
            "131\n",
            "137\n",
            "139\n",
            "149\n",
            "151\n",
            "157\n",
            "163\n",
            "167\n",
            "173\n",
            "179\n",
            "181\n",
            "191\n",
            "193\n",
            "197\n",
            "199\n"
          ],
          "name": "stdout"
        }
      ]
    }
  ]
}