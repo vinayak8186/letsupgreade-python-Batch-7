{
  "nbformat": 4,
  "nbformat_minor": 0,
  "metadata": {
    "colab": {
      "name": "Assignment1_and_Assignment2_Day8_Batch7.ipynb",
      "provenance": [],
      "collapsed_sections": [],
      "authorship_tag": "ABX9TyPOVgKtdnjRB16yIwoZaqRY",
      "include_colab_link": true
    },
    "kernelspec": {
      "name": "python3",
      "display_name": "Python 3"
    }
  },
  "cells": [
    {
      "cell_type": "markdown",
      "metadata": {
        "id": "view-in-github",
        "colab_type": "text"
      },
      "source": [
        "<a href=\"https://colab.research.google.com/github/vinayak8186/letsupgreade-python-Batch-7/blob/master/Assignment1_and_Assignment2_Day8_Batch7.ipynb\" target=\"_parent\"><img src=\"https://colab.research.google.com/assets/colab-badge.svg\" alt=\"Open In Colab\"/></a>"
      ]
    },
    {
      "cell_type": "code",
      "metadata": {
        "id": "IPoEKZDJFeM_",
        "colab_type": "code",
        "colab": {
          "base_uri": "https://localhost:8080/",
          "height": 90
        },
        "outputId": "24f8ac2b-b9ab-4a41-dea7-d9daedd59d41"
      },
      "source": [
        "#Question 1: Write a decorator function for your taking input for you any kind of function you want to build\n",
        "#for example : you make a fibonacci series function, in which your input range is been defined by the decorator programs input\n",
        "\n",
        "def decorator_function(any_function):\n",
        "  def wrapper_function(*args):\n",
        "    print(\"Fibonacci Series for the given input\")\n",
        "    return any_function(*args)\n",
        "  return wrapper_function\n",
        "\n",
        "\n",
        "@decorator_function\n",
        "def fibonacci_sqe(n):\n",
        "  a = 0 # First number\n",
        "  b = 1 # Second number\n",
        "  if n == 1:\n",
        "    print(a)\n",
        "  elif n == 2:\n",
        "    print(a,b)\n",
        "  else:\n",
        "    print(a,b, end=\" \")\n",
        "    for i in range(n-2):\n",
        "      c = a + b\n",
        "      a = b\n",
        "      b = c\n",
        "      print(b, end=\" \")\n",
        "\n",
        "x = int(input(\"Enter number: \")) \n",
        "print(fibonacci_sqe(x))\n",
        "\n",
        "#question 2 : for this challenge you to devlop a python program to open a file in read only and try writing something to it and handle the subsequent errors using Exception handling.\n",
        "#solution :\n",
        "\n",
        "try:\n",
        "  f = open(\"vinu.txt\", 'r')\n",
        "  f.write(\"Hey, What's up guys?\")\n",
        "\n",
        "except IOError:\n",
        "  print(\"Error: can\\'t write data\")\n",
        "\n",
        "else:\n",
        "  print(\"else block executed to close the file\")\n",
        "  f.close()\n"
      ],
      "execution_count": 1,
      "outputs": [
        {
          "output_type": "stream",
          "text": [
            "Enter number: 20\n",
            "Fibonacci Series for the given input\n",
            "0 1 1 2 3 5 8 13 21 34 55 89 144 233 377 610 987 1597 2584 4181 None\n",
            "Error: can't write data\n"
          ],
          "name": "stdout"
        }
      ]
    }
  ]
}