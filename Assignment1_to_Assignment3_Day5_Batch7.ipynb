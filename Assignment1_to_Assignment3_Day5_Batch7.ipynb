{
  "nbformat": 4,
  "nbformat_minor": 0,
  "metadata": {
    "colab": {
      "name": "Assignment1_to_Assignment3_Day5_Batch7.ipynb",
      "provenance": [],
      "authorship_tag": "ABX9TyPm8n8dxRr49Yir3QRHahLh",
      "include_colab_link": true
    },
    "kernelspec": {
      "name": "python3",
      "display_name": "Python 3"
    }
  },
  "cells": [
    {
      "cell_type": "markdown",
      "metadata": {
        "id": "view-in-github",
        "colab_type": "text"
      },
      "source": [
        "<a href=\"https://colab.research.google.com/github/vinayak8186/letsupgreade-python-Batch-7/blob/master/Assignment1_to_Assignment3_Day5_Batch7.ipynb\" target=\"_parent\"><img src=\"https://colab.research.google.com/assets/colab-badge.svg\" alt=\"Open In Colab\"/></a>"
      ]
    },
    {
      "cell_type": "code",
      "metadata": {
        "id": "ZMBbMmfCUcc2",
        "colab_type": "code",
        "colab": {
          "base_uri": "https://localhost:8080/",
          "height": 128
        },
        "outputId": "a8fbbe09-27f8-4516-e0aa-4373cf0362d3"
      },
      "source": [
        "#Question 1 : Write a program to identify sub list [1,1,5] is there in the given list in the same order, if yes print 'it's a match' if no then print 'it's Gone' in function\n",
        "#example:\n",
        "#listy=[1,5,6,4,1,2,3,5]\n",
        "#listy=[1,5,6,4,1,2,3,6]\n",
        "#solutin :\n",
        "def find_list(nums):\n",
        "  for i in range(len(nums)-2):\n",
        "    if nums[i]==1 and nums[i+1]==1 and nums[i+2]==5:\n",
        "      return \"It's match\"\n",
        "    \n",
        "  return \"It's gone\"\n",
        "\n",
        "lst1 = [1,5,1,1,5,2,3,5]\n",
        "lst2 = [1,5,6,5,1,2,3,6]\n",
        "lst3 = [1,5,6,4,1,2,3,5]\n",
        "\n",
        "print(find_list(lst1))\n",
        "print(find_list(lst2))\n",
        "print(find_list(lst3))\n",
        "\n",
        "\n",
        "#Question 2 : Make a Function for Prime Numbers and use filter to filter out all the prime numbers from 1 - 2500\n",
        "\n",
        "def is_prime(num):\n",
        "  if num > 1:\n",
        "    for i in range(2,num):\n",
        "        if num % i == 0:\n",
        "            return False\n",
        "    return True\n",
        "\n",
        "result = filter(is_prime,range(1,2500))\n",
        "print(\"Prime number between 1 to 2500 : \",list(result))\n",
        "\n",
        "\n",
        "#Question 3 : Make a Lambda Function for capitalizing the whole sentence passed using arguments and Map all the sentence in the list, with the Lambda Function\n",
        "#[\"hey this is sai\", \"i am in Mumbai\",...]\n",
        "#o/p --> \n",
        "#[\"Hey This is sai\", \"I am in mumbai\",...]\n",
        "#Solution :\n",
        "sentence = ['hey this is sai', 'i am in mumbai']\n",
        "\n",
        "capitalizing_sentence = list(map(lambda x : x.capitalize(),sentence))\n",
        "print(capitalizing_sentence)"
      ],
      "execution_count": 1,
      "outputs": [
        {
          "output_type": "stream",
          "text": [
            "It's match\n",
            "It's gone\n",
            "It's gone\n",
            "Prime number between 1 to 2500 :  [2, 3, 5, 7, 11, 13, 17, 19, 23, 29, 31, 37, 41, 43, 47, 53, 59, 61, 67, 71, 73, 79, 83, 89, 97, 101, 103, 107, 109, 113, 127, 131, 137, 139, 149, 151, 157, 163, 167, 173, 179, 181, 191, 193, 197, 199, 211, 223, 227, 229, 233, 239, 241, 251, 257, 263, 269, 271, 277, 281, 283, 293, 307, 311, 313, 317, 331, 337, 347, 349, 353, 359, 367, 373, 379, 383, 389, 397, 401, 409, 419, 421, 431, 433, 439, 443, 449, 457, 461, 463, 467, 479, 487, 491, 499, 503, 509, 521, 523, 541, 547, 557, 563, 569, 571, 577, 587, 593, 599, 601, 607, 613, 617, 619, 631, 641, 643, 647, 653, 659, 661, 673, 677, 683, 691, 701, 709, 719, 727, 733, 739, 743, 751, 757, 761, 769, 773, 787, 797, 809, 811, 821, 823, 827, 829, 839, 853, 857, 859, 863, 877, 881, 883, 887, 907, 911, 919, 929, 937, 941, 947, 953, 967, 971, 977, 983, 991, 997, 1009, 1013, 1019, 1021, 1031, 1033, 1039, 1049, 1051, 1061, 1063, 1069, 1087, 1091, 1093, 1097, 1103, 1109, 1117, 1123, 1129, 1151, 1153, 1163, 1171, 1181, 1187, 1193, 1201, 1213, 1217, 1223, 1229, 1231, 1237, 1249, 1259, 1277, 1279, 1283, 1289, 1291, 1297, 1301, 1303, 1307, 1319, 1321, 1327, 1361, 1367, 1373, 1381, 1399, 1409, 1423, 1427, 1429, 1433, 1439, 1447, 1451, 1453, 1459, 1471, 1481, 1483, 1487, 1489, 1493, 1499, 1511, 1523, 1531, 1543, 1549, 1553, 1559, 1567, 1571, 1579, 1583, 1597, 1601, 1607, 1609, 1613, 1619, 1621, 1627, 1637, 1657, 1663, 1667, 1669, 1693, 1697, 1699, 1709, 1721, 1723, 1733, 1741, 1747, 1753, 1759, 1777, 1783, 1787, 1789, 1801, 1811, 1823, 1831, 1847, 1861, 1867, 1871, 1873, 1877, 1879, 1889, 1901, 1907, 1913, 1931, 1933, 1949, 1951, 1973, 1979, 1987, 1993, 1997, 1999, 2003, 2011, 2017, 2027, 2029, 2039, 2053, 2063, 2069, 2081, 2083, 2087, 2089, 2099, 2111, 2113, 2129, 2131, 2137, 2141, 2143, 2153, 2161, 2179, 2203, 2207, 2213, 2221, 2237, 2239, 2243, 2251, 2267, 2269, 2273, 2281, 2287, 2293, 2297, 2309, 2311, 2333, 2339, 2341, 2347, 2351, 2357, 2371, 2377, 2381, 2383, 2389, 2393, 2399, 2411, 2417, 2423, 2437, 2441, 2447, 2459, 2467, 2473, 2477]\n",
            "['Hey this is sai', 'I am in mumbai']\n"
          ],
          "name": "stdout"
        }
      ]
    }
  ]
}